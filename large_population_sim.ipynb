{
 "cells": [
  {
   "cell_type": "code",
   "execution_count": 51,
   "metadata": {},
   "outputs": [],
   "source": [
    "import networkx as nx\n",
    "import random\n",
    "import matplotlib.pyplot as plt\n",
    "import numpy as np\n"
   ]
  },
  {
   "cell_type": "code",
   "execution_count": 52,
   "metadata": {},
   "outputs": [],
   "source": [
    "population_size = 1000\n",
    "\n",
    "graph = nx.Graph()  # Create an empty graph\n",
    "\n",
    "# Add nodes to the graph representing individuals\n",
    "graph.add_nodes_from(range(population_size))"
   ]
  },
  {
   "cell_type": "code",
   "execution_count": 53,
   "metadata": {},
   "outputs": [],
   "source": [
    "# randomly assign strategies to the individuals (even distribution)\n",
    "strategies = [\"UI\"] * (population_size // 4) + [\"TI\"] * (population_size // 4) + [\"TR\"] * (population_size // 4) + [\"UR\"] * (population_size // 4)\n",
    "random.shuffle(strategies)\n",
    "\n",
    "# assign strategies to the nodes in the graph\n",
    "for node, strategy in zip(graph.nodes, strategies):\n",
    "    graph.nodes[node][\"strategy\"] = str(strategy)\n",
    "\n",
    "\n",
    "# assign initial payoffs \n",
    "for node in graph.nodes:\n",
    "    graph.nodes[node][\"payoff\"] = 0\n",
    "\n",
    "# create edges between all nodes\n",
    "for node1 in graph.nodes:\n",
    "    for node2 in graph.nodes:\n",
    "        if node1 != node2:\n",
    "            graph.add_edge(node1, node2)\n",
    "\n"
   ]
  },
  {
   "cell_type": "code",
   "execution_count": 54,
   "metadata": {},
   "outputs": [
    {
     "name": "stdout",
     "output_type": "stream",
     "text": [
      "{('TI', 'TR'): (5, 5), ('TR', 'UI'): (-5, 8), ('TI', 'UR'): (-2, -1), ('UI', 'UR'): (-1, -1)}\n"
     ]
    }
   ],
   "source": [
    "# define the payoff matrix\n",
    "R = 5\n",
    "B = 3\n",
    "L = 5\n",
    "N = 1\n",
    "S = 1\n",
    "\n",
    "# trustworthy initiator, trustworthy recipient, untrustworthy initiator, untrustworthy recipient\n",
    "\n",
    "payoff_matrix = {\n",
    "    (\"TI\", \"TR\"): (R, R),\n",
    "    (\"TR\", \"UI\"): (-L, R+B),\n",
    "    (\"TI\", \"UR\"): (-N-S, -N),\n",
    "    (\"UI\", \"UR\"): (-N, -N),\n",
    "}\n",
    "\n",
    "print(payoff_matrix)\n"
   ]
  },
  {
   "cell_type": "code",
   "execution_count": 55,
   "metadata": {},
   "outputs": [],
   "source": [
    "# simulate the game dynamics for 10 rounds\n",
    "\n",
    "for x in range(10):\n",
    "    # iterate over edgges in graph & calculate the payoffs for each pairwise interaction based on the strategies in the payoff matrix\n",
    "\n",
    "    for edge in graph.edges:\n",
    "        node1, node2 = edge\n",
    "\n",
    "        # Get the strategies of the interacting nodes\n",
    "        strategy1 = graph.nodes[node1][\"strategy\"]\n",
    "        strategy2 = graph.nodes[node2][\"strategy\"]\n",
    "\n",
    "        # sort the strategies alphabetically\n",
    "        sorted_strategies = sorted([strategy1, strategy2])\n",
    "\n",
    "        # get the corresponding payoffs from the payoff matrix\n",
    "        if (sorted_strategies[0], sorted_strategies[1]) not in payoff_matrix:\n",
    "            continue\n",
    "        \n",
    "        payoff1, payoff2 = payoff_matrix[(sorted_strategies[0], sorted_strategies[1])]\n",
    "\n",
    "        # update the payoffs of the nodes\n",
    "        graph.nodes[node1][\"payoff\"] += payoff1\n",
    "        graph.nodes[node2][\"payoff\"] += payoff2\n",
    "\n",
    "    # update the strategies of the nodes based on their payoffs\n",
    "    total_payoff = sum([graph.nodes[node][\"payoff\"] for node in graph.nodes])\n",
    "\n",
    "    if population_size == 0:\n",
    "        average_payoff = 0\n",
    "    else:\n",
    "        average_payoff = total_payoff / population_size\n",
    "\n",
    "    for node in graph.nodes:\n",
    "        # get current strategy of the node\n",
    "        current_strategy = graph.nodes[node][\"strategy\"]\n",
    "\n",
    "        # get the payoff of the node\n",
    "        node_payoff = graph.nodes[node][\"payoff\"]\n",
    "\n",
    "        # calculate the fitess of the current strategy\n",
    "        if average_payoff == 0:\n",
    "            fitness = 0\n",
    "        else:\n",
    "            fitness = node_payoff / average_payoff\n",
    "\n",
    "        # update strategy based on neighboring nodes \n",
    "        new_strategy = current_strategy # initialize with current strategy\n",
    "\n",
    "        for neighbor in graph.neighbors(node):\n",
    "            # get payoff of neighbor\n",
    "            neighbor_payoff = graph.nodes[neighbor][\"payoff\"]\n",
    "\n",
    "            # get strategy of neighbor\n",
    "            neighbor_strategy = graph.nodes[neighbor][\"strategy\"]\n",
    "\n",
    "            # if TI-UI, change them to whichever payoff is higher\n",
    "            if current_strategy == \"TI\" and neighbor_strategy == \"UI\":\n",
    "                if node_payoff > neighbor_payoff:\n",
    "                    new_strategy = current_strategy\n",
    "                else:\n",
    "                    new_strategy = neighbor_strategy\n",
    "            \n",
    "            # if TR-UR, change them to whichever payoff is higher\n",
    "            if current_strategy == \"TR\" and neighbor_strategy == \"UR\":\n",
    "                if node_payoff > neighbor_payoff:\n",
    "                    new_strategy = current_strategy\n",
    "                else:\n",
    "                    new_strategy = neighbor_strategy\n",
    "\n",
    "            # # calculate fitness of neighboring strategy \n",
    "            # neighbor_fitness = neighbor_payoff / average_payoff\n",
    "\n",
    "            # # if the neighboring strategy is more fit than the current strategy, update the current strategy\n",
    "            # if neighbor_fitness > fitness:\n",
    "            #     new_strategy = graph.nodes[neighbor][\"strategy\"]\n",
    "            #     fitness = neighbor_fitness\n",
    "        \n",
    "        # update the strategy of the node\n",
    "        graph.nodes[node][\"strategy\"] = new_strategy"
   ]
  },
  {
   "cell_type": "code",
   "execution_count": 56,
   "metadata": {},
   "outputs": [
    {
     "data": {
      "image/png": "[encoded data removed]",
      "text/plain": [
       "<Figure size 640x480 with 1 Axes>"
      ]
     },
     "metadata": {},
     "output_type": "display_data"
    }
   ],
   "source": [
    "# Extract strategies and payoff scores from the graph nodes\n",
    "strategies = [graph.nodes[node][\"strategy\"] for node in graph.nodes]\n",
    "payoff_scores = [graph.nodes[node][\"payoff\"] for node in graph.nodes]\n",
    "\n",
    "# Bin the payoff scores based on strategy using numpy\n",
    "strategy_bins = np.unique([\"TI\", \"UI\", \"TR\", \"UR\"])\n",
    "binned_scores = [np.array(payoff_scores)[np.array(strategies) == strategy] for strategy in strategy_bins]\n",
    "\n",
    "# Calculate the frequencies for each strategy\n",
    "frequencies = [len(scores) for scores in binned_scores]\n",
    "\n",
    "# Create a bar plot\n",
    "plt.bar(strategy_bins, frequencies)\n",
    "\n",
    "# display the values above each bar\n",
    "for i, v in enumerate(frequencies):\n",
    "    plt.text(i - 0.15, v + 0.01, str(v))\n",
    "\n",
    "# Add labels and title\n",
    "plt.xlabel(\"Strategy\")\n",
    "plt.ylabel(\"Frequency\")\n",
    "plt.title(\"Frequency of Payoff Scores by Strategy\")\n",
    "\n",
    "# Display the plot\n",
    "plt.show()"
   ]
  }
 ],
 "metadata": {
  "kernelspec": {
   "display_name": "Python 3",
   "language": "python",
   "name": "python3"
  },
  "language_info": {
   "codemirror_mode": {
    "name": "ipython",
    "version": 3
   },
   "file_extension": ".py",
   "mimetype": "text/x-python",
   "name": "python",
   "nbconvert_exporter": "python",
   "pygments_lexer": "ipython3",
   "version": "3.10.3"
  },
  "orig_nbformat": 4
 },
 "nbformat": 4,
 "nbformat_minor": 2
}
