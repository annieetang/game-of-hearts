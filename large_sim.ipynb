{
 "cells": [
  {
   "cell_type": "code",
   "execution_count": 89,
   "metadata": {},
   "outputs": [],
   "source": [
    "# !pip install networkx\n",
    "# !pip install matplotlib\n",
    "# !pip install scipy"
   ]
  },
  {
   "cell_type": "code",
   "execution_count": 90,
   "metadata": {},
   "outputs": [],
   "source": [
    "import networkx as nx\n",
    "import random\n",
    "import matplotlib.pyplot as plt\n",
    "import numpy as np\n"
   ]
  },
  {
   "cell_type": "code",
   "execution_count": 91,
   "metadata": {},
   "outputs": [],
   "source": [
    "def create_payoff(R=5, B=3, L=5, N=3.5, S=1):\n",
    "    # trustworthy initiator, trustworthy recipient, untrustworthy initiator, untrustworthy recipient\n",
    "    payoff_matrix = {\n",
    "        (\"TI\", \"TR\"): (R, R),\n",
    "        (\"TR\", \"UI\"): (-L, R+B),\n",
    "        (\"TI\", \"UR\"): (-N-S, -N),\n",
    "        (\"UI\", \"UR\"): (-N, -N),\n",
    "    }\n",
    "    return payoff_matrix"
   ]
  },
  {
   "cell_type": "code",
   "execution_count": 92,
   "metadata": {},
   "outputs": [],
   "source": [
    "def create_graph(population_size):\n",
    "    graph = nx.Graph()\n",
    "    graph.add_nodes_from(range(population_size))\n",
    "\n",
    "    # randomly assign strategies to the individuals (even distribution)\n",
    "    strategies = [\"UI\"] * (population_size // 4) + [\"TI\"] * (population_size // 4) + [\"TR\"] * (population_size // 4) + [\"UR\"] * (population_size // 4)\n",
    "    random.shuffle(strategies)\n",
    "\n",
    "    # assign strategies to the nodes in the graph\n",
    "    for node, strategy in zip(graph.nodes, strategies):\n",
    "        graph.nodes[node][\"strategy\"] = str(strategy)\n",
    "\n",
    "    # assign initial payoffs \n",
    "    for node in graph.nodes:\n",
    "        graph.nodes[node][\"payoff\"] = 0\n",
    "\n",
    "    # add edges between all nodes\n",
    "    for node1 in graph.nodes:\n",
    "        for node2 in graph.nodes:\n",
    "            if node1 != node2:\n",
    "                graph.add_edge(node1, node2)\n",
    "\n",
    "    return graph"
   ]
  },
  {
   "cell_type": "code",
   "execution_count": 93,
   "metadata": {},
   "outputs": [],
   "source": [
    "def display_graph(graph):\n",
    "    # Create a list of colors corresponding to the strategies\n",
    "    strategy_colors = {\n",
    "        \"TI\": \"green\",\n",
    "        \"UI\": \"blue\",\n",
    "        \"TR\": \"red\",\n",
    "        \"UR\": \"yellow\",\n",
    "    }\n",
    "    node_colors = [strategy_colors[graph.nodes[node][\"strategy\"]] for node in graph.nodes]\n",
    "\n",
    "    plt.figure(figsize=(10, 8))\n",
    "    pos = nx.spring_layout(graph, k=0.8)\n",
    "\n",
    "    # Draw the graph\n",
    "    nx.draw(graph, pos, node_color=node_colors, with_labels=True, width=0.8, node_size=800)\n",
    "\n",
    "    # Show the plot\n",
    "    # plt.show()\n"
   ]
  },
  {
   "cell_type": "code",
   "execution_count": 94,
   "metadata": {},
   "outputs": [],
   "source": [
    "# generate one graph simulation \n",
    "payoff_matrix = create_payoff()\n",
    "graph = create_graph(1000)\n",
    "\n",
    "# display initial graph \n",
    "# display_graph(graph)\n"
   ]
  },
  {
   "cell_type": "code",
   "execution_count": 95,
   "metadata": {},
   "outputs": [],
   "source": [
    "def single_sim(population_size, payoff_matrix, graph):\n",
    "    \"\"\"\n",
    "    Simulate one round of the game.\n",
    "    \"\"\"\n",
    "    # simulate the game dynamics for 10 rounds\n",
    "\n",
    "    for x in range(10):\n",
    "        # iterate over edgges in graph & calculate the payoffs for each pairwise interaction based on the strategies in the payoff matrix\n",
    "\n",
    "        for edge in graph.edges:\n",
    "            node1, node2 = edge\n",
    "\n",
    "            # Get the strategies of the interacting nodes\n",
    "            strategy1 = graph.nodes[node1][\"strategy\"]\n",
    "            strategy2 = graph.nodes[node2][\"strategy\"]\n",
    "\n",
    "            # sort the strategies alphabetically\n",
    "            sorted_strategies = sorted([strategy1, strategy2])\n",
    "\n",
    "            # get the corresponding payoffs from the payoff matrix\n",
    "            if (sorted_strategies[0], sorted_strategies[1]) not in payoff_matrix:\n",
    "                continue\n",
    "            \n",
    "            payoff1, payoff2 = payoff_matrix[(sorted_strategies[0], sorted_strategies[1])]\n",
    "\n",
    "            # update the payoffs of the nodes\n",
    "            graph.nodes[node1][\"payoff\"] += payoff1\n",
    "            graph.nodes[node2][\"payoff\"] += payoff2\n",
    "\n",
    "        # update the strategies of the nodes based on their payoffs\n",
    "        total_payoff = sum([graph.nodes[node][\"payoff\"] for node in graph.nodes])\n",
    "\n",
    "        if population_size == 0:\n",
    "            average_payoff = 0\n",
    "        else:\n",
    "            average_payoff = total_payoff / population_size\n",
    "\n",
    "        for node in graph.nodes:\n",
    "            # get current strategy of the node\n",
    "            current_strategy = graph.nodes[node][\"strategy\"]\n",
    "\n",
    "            # get the payoff of the node\n",
    "            node_payoff = graph.nodes[node][\"payoff\"]\n",
    "\n",
    "            # calculate the fitess of the current strategy\n",
    "            if average_payoff == 0:\n",
    "                fitness = 0\n",
    "            else:\n",
    "                fitness = node_payoff / average_payoff\n",
    "\n",
    "            # update strategy based on neighboring nodes \n",
    "            new_strategy = current_strategy # initialize with current strategy\n",
    "\n",
    "            for neighbor in graph.neighbors(node):\n",
    "                # get payoff of neighbor\n",
    "                neighbor_payoff = graph.nodes[neighbor][\"payoff\"]\n",
    "\n",
    "                # get strategy of neighbor\n",
    "                neighbor_strategy = graph.nodes[neighbor][\"strategy\"]\n",
    "\n",
    "                # get fitness of neighbor\n",
    "                if average_payoff == 0:\n",
    "                    neighbor_fitness = 0\n",
    "                else:\n",
    "                    neighbor_fitness = neighbor_payoff / average_payoff\n",
    "\n",
    "                # if TI-UI, change them to whichever payoff is higher\n",
    "                if current_strategy == \"TI\" and neighbor_strategy == \"UI\" or current_strategy == \"UI\" and neighbor_strategy == \"TI\":\n",
    "                    if neighbor_fitness > fitness:\n",
    "                        new_strategy = neighbor_strategy\n",
    "                    else: \n",
    "                        new_strategy = current_strategy\n",
    "\n",
    "                # if TR-UR, change them to whichever payoff is higher\n",
    "                if current_strategy == \"TR\" and neighbor_strategy == \"UR\" or current_strategy == \"UR\" and neighbor_strategy == \"TR\":\n",
    "                    if neighbor_fitness > fitness:\n",
    "                        new_strategy = neighbor_strategy\n",
    "                    else: \n",
    "                        new_strategy = current_strategy\n",
    "            \n",
    "            # update the strategy of the node\n",
    "            graph.nodes[node][\"strategy\"] = new_strategy"
   ]
  },
  {
   "cell_type": "code",
   "execution_count": 96,
   "metadata": {},
   "outputs": [],
   "source": [
    "# simulate one round of the game\n",
    "single_sim(10, payoff_matrix, graph)\n",
    "# display_graph(graph)"
   ]
  },
  {
   "cell_type": "code",
   "execution_count": 97,
   "metadata": {},
   "outputs": [],
   "source": [
    "def extract_frequencies(graph):\n",
    "    \"\"\"\n",
    "    Extract the frequencies of each strategy in the graph.\n",
    "    \"\"\"\n",
    "    # initialize frequencies\n",
    "    frequencies = {\n",
    "        \"TI\": 0,\n",
    "        \"UI\": 0,\n",
    "        \"TR\": 0,\n",
    "        \"UR\": 0,\n",
    "    }\n",
    "\n",
    "    # iterate over nodes in the graph and update the frequencies\n",
    "    for node in graph.nodes:\n",
    "        strategy = graph.nodes[node][\"strategy\"]\n",
    "        frequencies[strategy] += 1\n",
    "\n",
    "    return frequencies"
   ]
  },
  {
   "cell_type": "code",
   "execution_count": 98,
   "metadata": {},
   "outputs": [],
   "source": [
    "def display_frequencies(frequencies):\n",
    "    frq = np.array(list(frequencies.values()))\n",
    "\n",
    "    # create bar plot \n",
    "    plt.bar(frequencies.keys(), frq)\n",
    "\n",
    "    # display values on top of bars\n",
    "    for i, v in enumerate(frq):\n",
    "        plt.text(i, v, str(v), ha=\"center\")\n",
    "    \n",
    "    # set title and labels\n",
    "    plt.title(\"Frequencies of Strategies\")\n",
    "    plt.xlabel(\"Strategy\")\n",
    "    plt.ylabel(\"Frequency\")\n",
    "    \n",
    "    # show plot\n",
    "    plt.show()"
   ]
  },
  {
   "cell_type": "code",
   "execution_count": 99,
   "metadata": {},
   "outputs": [
    {
     "name": "stdout",
     "output_type": "stream",
     "text": [
      "{'TI': 287, 'UI': 213, 'TR': 0, 'UR': 500}\n"
     ]
    },
    {
     "data": {
      "image/png": "[encoded data removed]",
      "text/plain": [
       "<Figure size 640x480 with 1 Axes>"
      ]
     },
     "metadata": {},
     "output_type": "display_data"
    }
   ],
   "source": [
    "# extract frequencies\n",
    "frequencies = extract_frequencies(graph)\n",
    "print(frequencies)\n",
    "\n",
    "# display frequencies\n",
    "display_frequencies(frequencies)"
   ]
  }
 ],
 "metadata": {
  "kernelspec": {
   "display_name": "Python 3",
   "language": "python",
   "name": "python3"
  },
  "language_info": {
   "codemirror_mode": {
    "name": "ipython",
    "version": 3
   },
   "file_extension": ".py",
   "mimetype": "text/x-python",
   "name": "python",
   "nbconvert_exporter": "python",
   "pygments_lexer": "ipython3",
   "version": "3.10.3"
  },
  "orig_nbformat": 4
 },
 "nbformat": 4,
 "nbformat_minor": 2
}
